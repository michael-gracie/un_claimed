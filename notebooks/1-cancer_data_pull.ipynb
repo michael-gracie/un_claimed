{
 "cells": [
  {
   "cell_type": "code",
   "execution_count": 11,
   "metadata": {},
   "outputs": [],
   "source": [
    "# Hacky way to do relative imports\n",
    "import sys\n",
    "sys.path.append('..')\n",
    "sys.path.append('../src')"
   ]
  },
  {
   "cell_type": "code",
   "execution_count": 12,
   "metadata": {},
   "outputs": [],
   "source": [
    "from src import get_data"
   ]
  },
  {
   "cell_type": "code",
   "execution_count": 13,
   "metadata": {},
   "outputs": [
    {
     "name": "stderr",
     "output_type": "stream",
     "text": [
      "Pulling info for term: cancer, page: 2\n",
      "Pulling info for term: cancer, page: 3\n",
      "Pulling info for term: cancer, page: 4\n",
      "Pulling info for term: cancer, page: 5\n",
      "Pulling info for term: cancer, page: 6\n",
      "Pulling info for term: cancer, page: 7\n",
      "Pulling info for term: cancer, page: 8\n",
      "Pulling info for term: cancer, page: 9\n",
      "Pulling info for term: cancer, page: 10\n",
      "Pulling info for term: cancer, page: 11\n",
      "Pulling info for term: cancer, page: 12\n",
      "Pulling info for term: cancer, page: 13\n",
      "Pulling info for term: cancer, page: 14\n",
      "Pulling info for term: cancer, page: 15\n",
      "Pulling info for term: cancer, page: 16\n",
      "Pulling info for term: cancer, page: 17\n",
      "Pulling info for term: cancer, page: 18\n",
      "Pulling info for term: cancer, page: 19\n",
      "Pulling info for term: cancer, page: 20\n",
      "Pulling info for term: cancer, page: 21\n",
      "Pulling info for term: cancer, page: 22\n",
      "Pulling info for term: cancer, page: 23\n",
      "Pulling info for term: cancer, page: 24\n",
      "Pulling info for term: cancer, page: 25\n",
      "Pulling info for term: cancer, page: 26\n",
      "Pulling info for term: cancer, page: 27\n",
      "Pulling info for term: cancer, page: 28\n",
      "Pulling info for term: cancer, page: 29\n",
      "Pulling info for term: cancer, page: 30\n",
      "Pulling info for term: cancer, page: 31\n",
      "Pulling info for term: cancer, page: 32\n",
      "Pulling info for term: cancer, page: 33\n"
     ]
    }
   ],
   "source": [
    "df = get_data.pull_properties('cancer')"
   ]
  },
  {
   "cell_type": "code",
   "execution_count": 14,
   "metadata": {},
   "outputs": [],
   "source": [
    "df.to_csv('data/cancer_prop.csv')"
   ]
  }
 ],
 "metadata": {
  "kernelspec": {
   "display_name": "Python 3",
   "language": "python",
   "name": "python3"
  },
  "language_info": {
   "codemirror_mode": {
    "name": "ipython",
    "version": 3
   },
   "file_extension": ".py",
   "mimetype": "text/x-python",
   "name": "python",
   "nbconvert_exporter": "python",
   "pygments_lexer": "ipython3",
   "version": "3.7.3"
  }
 },
 "nbformat": 4,
 "nbformat_minor": 2
}
