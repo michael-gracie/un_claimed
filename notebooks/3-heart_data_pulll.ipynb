{
 "cells": [
  {
   "cell_type": "code",
   "execution_count": 1,
   "metadata": {},
   "outputs": [],
   "source": [
    "# Hacky way to do relative imports\n",
    "import sys\n",
    "sys.path.append('..')\n",
    "sys.path.append('../src')"
   ]
  },
  {
   "cell_type": "code",
   "execution_count": 2,
   "metadata": {},
   "outputs": [],
   "source": [
    "from src import get_data"
   ]
  },
  {
   "cell_type": "code",
   "execution_count": 5,
   "metadata": {},
   "outputs": [
    {
     "name": "stderr",
     "output_type": "stream",
     "text": [
      "Pulling info for term: heart, page: 2\n",
      "Pulling info for term: heart, page: 3\n",
      "Pulling info for term: heart, page: 4\n",
      "Pulling info for term: heart, page: 5\n",
      "Pulling info for term: heart, page: 6\n",
      "Pulling info for term: heart, page: 7\n",
      "Pulling info for term: heart, page: 8\n",
      "Pulling info for term: heart, page: 9\n",
      "Pulling info for term: heart, page: 10\n",
      "Pulling info for term: heart, page: 11\n",
      "Pulling info for term: heart, page: 12\n",
      "Pulling info for term: heart, page: 13\n",
      "Pulling info for term: heart, page: 14\n",
      "Pulling info for term: heart, page: 15\n",
      "Pulling info for term: heart, page: 16\n",
      "Pulling info for term: heart, page: 17\n",
      "Pulling info for term: heart, page: 18\n",
      "Pulling info for term: heart, page: 19\n",
      "Pulling info for term: heart, page: 20\n",
      "Pulling info for term: heart, page: 21\n",
      "Pulling info for term: heart, page: 22\n",
      "Pulling info for term: heart, page: 23\n",
      "Pulling info for term: heart, page: 24\n",
      "Pulling info for term: heart, page: 25\n",
      "Pulling info for term: heart, page: 26\n",
      "Pulling info for term: heart, page: 27\n",
      "Pulling info for term: heart, page: 28\n",
      "Pulling info for term: heart, page: 29\n",
      "Pulling info for term: heart, page: 30\n",
      "Pulling info for term: heart, page: 31\n",
      "Pulling info for term: heart, page: 32\n",
      "Pulling info for term: heart, page: 33\n",
      "Pulling info for term: heart, page: 34\n",
      "Pulling info for term: heart, page: 35\n"
     ]
    }
   ],
   "source": [
    "df = get_data.pull_properties('heart')"
   ]
  },
  {
   "cell_type": "code",
   "execution_count": 6,
   "metadata": {},
   "outputs": [],
   "source": [
    "df.to_csv('data/heart_prop.csv')"
   ]
  }
 ],
 "metadata": {
  "kernelspec": {
   "display_name": "Python 3",
   "language": "python",
   "name": "python3"
  },
  "language_info": {
   "codemirror_mode": {
    "name": "ipython",
    "version": 3
   },
   "file_extension": ".py",
   "mimetype": "text/x-python",
   "name": "python",
   "nbconvert_exporter": "python",
   "pygments_lexer": "ipython3",
   "version": "3.7.3"
  }
 },
 "nbformat": 4,
 "nbformat_minor": 2
}
